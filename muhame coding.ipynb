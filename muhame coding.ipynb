{
 "cells": [
  {
   "cell_type": "code",
   "execution_count": 1,
   "metadata": {},
   "outputs": [
    {
     "name": "stdout",
     "output_type": "stream",
     "text": [
      "<class 'int'>\n",
      "<class 'float'>\n",
      "<class 'str'>\n"
     ]
    }
   ],
   "source": [
    " x = 5  \n",
    " y = 6.0 \n",
    " z = \"ray\"\n",
    " \n",
    " print (type(x))\n",
    " print (type(y))\n",
    " print (type(z))"
   ]
  },
  {
   "cell_type": "code",
   "execution_count": 3,
   "metadata": {},
   "outputs": [
    {
     "name": "stdout",
     "output_type": "stream",
     "text": [
      "3\n"
     ]
    }
   ],
   "source": [
    "a = 3\n",
    "b = 7\n",
    "c = 4\n",
    "d = 9\n",
    "inp_lst = [\"3\", \"7\" \"4\", \"9\"]\n",
    "size = len(inp_lst)\n",
    "print(size)"
   ]
  },
  {
   "cell_type": "code",
   "execution_count": 11,
   "metadata": {},
   "outputs": [
    {
     "name": "stdout",
     "output_type": "stream",
     "text": [
      "sum of cj + kfc\n"
     ]
    }
   ],
   "source": [
    "#cj = ( 9.99, 7.99,7.49,7.00,6.29,4.99)\n",
    "#kfc = ( 7.5, 5, 4.4, 3.75,2.25)\n",
    "\n",
    "list1 =(9.99, 7.99, 7.49, 7.00, 6.29, 4.99)\n",
    "list2 =( 7.5, 5, 4.4,3.75,2.25)\n",
    "print (\"sum of cj + kfc\")\n",
    "\n",
    "# find cj - kfc\n",
    "\n"
   ]
  },
  {
   "cell_type": "code",
   "execution_count": 12,
   "metadata": {},
   "outputs": [
    {
     "ename": "NameError",
     "evalue": "name 'cj' is not defined",
     "output_type": "error",
     "traceback": [
      "\u001b[1;31m---------------------------------------------------------------------------\u001b[0m",
      "\u001b[1;31mNameError\u001b[0m                                 Traceback (most recent call last)",
      "Cell \u001b[1;32mIn[12], line 4\u001b[0m\n\u001b[0;32m      1\u001b[0m \u001b[39mimport\u001b[39;00m \u001b[39mnumpy\u001b[39;00m \u001b[39mas\u001b[39;00m \u001b[39mnp\u001b[39;00m\n\u001b[0;32m      2\u001b[0m \u001b[39m#cj = ( 9.99, 7.99,7.49,7.00,6.29,4.99)\u001b[39;00m\n\u001b[0;32m      3\u001b[0m \u001b[39m#kfc = ( 7.5, 5, 4.4, 3.75,2.25)\u001b[39;00m\n\u001b[1;32m----> 4\u001b[0m cj_array \u001b[39m=\u001b[39m np\u001b[39m.\u001b[39marray(cj)\u001b[39m.\u001b[39marray\n",
      "\u001b[1;31mNameError\u001b[0m: name 'cj' is not defined"
     ]
    }
   ],
   "source": [
    "import numpy as np\n",
    "#cj = ( 9.99, 7.99,7.49,7.00,6.29,4.99)\n",
    "#kfc = ( 7.5, 5, 4.4, 3.75,2.25)\n",
    "cj_array = np.array(cj).array\n",
    "\n"
   ]
  }
 ],
 "metadata": {
  "kernelspec": {
   "display_name": "Python 3",
   "language": "python",
   "name": "python3"
  },
  "language_info": {
   "codemirror_mode": {
    "name": "ipython",
    "version": 3
   },
   "file_extension": ".py",
   "mimetype": "text/x-python",
   "name": "python",
   "nbconvert_exporter": "python",
   "pygments_lexer": "ipython3",
   "version": "3.11.4"
  },
  "orig_nbformat": 4
 },
 "nbformat": 4,
 "nbformat_minor": 2
}
